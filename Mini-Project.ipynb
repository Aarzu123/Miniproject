{
 "cells": [
  {
   "cell_type": "markdown",
   "id": "8188c073",
   "metadata": {},
   "source": [
    "# Convert Text to Audio"
   ]
  },
  {
   "cell_type": "code",
   "execution_count": 2,
   "id": "10f6dd1a",
   "metadata": {},
   "outputs": [],
   "source": [
    "#import libraries\n",
    "from tkinter import *\n",
    "#Google Text-to-Speech\n",
    "from gtts import gTTS\n",
    "from playsound import playsound"
   ]
  },
  {
   "cell_type": "code",
   "execution_count": 3,
   "id": "1bbc8c42",
   "metadata": {},
   "outputs": [
    {
     "data": {
      "text/plain": [
       "''"
      ]
     },
     "execution_count": 3,
     "metadata": {},
     "output_type": "execute_result"
    }
   ],
   "source": [
    "#initialize window\n",
    "root = Tk()\n",
    "root.geometry('350x300')\n",
    "root.resizable(0,0)\n",
    "root.config(bg = 'ghost white')\n",
    "root.title('TEXT_TO_SPEECH')"
   ]
  },
  {
   "cell_type": "code",
   "execution_count": 4,
   "id": "ab38a557",
   "metadata": {},
   "outputs": [],
   "source": [
    "#heading\n",
    "Label(root, text = 'Convert Text to Audio' , font='arial 20 bold' , bg ='white smoke').pack()\n",
    "#Label(root, text ='DataFlair' , font ='arial 15 bold', bg = 'white smoke').pack(side = BOTTOM)"
   ]
  },
  {
   "cell_type": "code",
   "execution_count": 5,
   "id": "a928b7e0",
   "metadata": {},
   "outputs": [],
   "source": [
    "#label\n",
    "Label(root, text ='Enter Text', font ='arial 15 bold', bg ='white smoke').place(x=20,y=60)"
   ]
  },
  {
   "cell_type": "code",
   "execution_count": 6,
   "id": "2f04407b",
   "metadata": {},
   "outputs": [],
   "source": [
    "#text Variable\n",
    "Msg = StringVar()"
   ]
  },
  {
   "cell_type": "code",
   "execution_count": 7,
   "id": "c1f3b5fa",
   "metadata": {},
   "outputs": [],
   "source": [
    "#Entry\n",
    "entry_field = Entry(root,textvariable =Msg, width ='35')\n",
    "entry_field.place(x=20 , y=100)"
   ]
  },
  {
   "cell_type": "code",
   "execution_count": 8,
   "id": "9e860429",
   "metadata": {},
   "outputs": [],
   "source": [
    "#function definition\n",
    "def Text_to_speech():\n",
    "    Message = entry_field.get()\n",
    "    speech = gTTS(text = Message)\n",
    "    speech.save('DataFlair.mp3')\n",
    "    playsound('DataFlair.mp3')"
   ]
  },
  {
   "cell_type": "code",
   "execution_count": 9,
   "id": "1868a340",
   "metadata": {},
   "outputs": [],
   "source": [
    "def Exit():\n",
    "    root.destroy()"
   ]
  },
  {
   "cell_type": "code",
   "execution_count": 10,
   "id": "eb2bec73",
   "metadata": {},
   "outputs": [],
   "source": [
    "def Reset():\n",
    "    Msg.set(\"\")"
   ]
  },
  {
   "cell_type": "code",
   "execution_count": 11,
   "id": "c3ca604f",
   "metadata": {},
   "outputs": [],
   "source": [
    "#Button\n",
    "Button(root, text = \"PLAY\" , font = 'arial 15 bold', command = Text_to_speech, width =4 ,bg='Green').place(x=25, y=140)\n",
    "Button(root,text = 'EXIT',font = 'arial 15 bold' , command = Exit, bg = 'Red').place(x=100,y=140)\n",
    "Button(root, text = 'RESET', font='arial 15 bold', command = Reset ,bg='Yellow').place(x=175 , y =140)"
   ]
  },
  {
   "cell_type": "code",
   "execution_count": 12,
   "id": "d6754682",
   "metadata": {},
   "outputs": [],
   "source": [
    "#infinite loop to run program\n",
    "root.mainloop()"
   ]
  },
  {
   "cell_type": "code",
   "execution_count": null,
   "id": "e5daa322",
   "metadata": {},
   "outputs": [],
   "source": []
  }
 ],
 "metadata": {
  "kernelspec": {
   "display_name": "Python 3 (ipykernel)",
   "language": "python",
   "name": "python3"
  },
  "language_info": {
   "codemirror_mode": {
    "name": "ipython",
    "version": 3
   },
   "file_extension": ".py",
   "mimetype": "text/x-python",
   "name": "python",
   "nbconvert_exporter": "python",
   "pygments_lexer": "ipython3",
   "version": "3.8.10"
  }
 },
 "nbformat": 4,
 "nbformat_minor": 5
}
